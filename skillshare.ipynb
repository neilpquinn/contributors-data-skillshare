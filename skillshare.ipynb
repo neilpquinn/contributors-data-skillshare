{
 "cells": [
  {
   "cell_type": "code",
   "execution_count": 1,
   "metadata": {},
   "outputs": [
    {
     "name": "stderr",
     "output_type": "stream",
     "text": [
      "You can find the source for `wmfdata` at https://github.com/neilpquinn/wmfdata\n"
     ]
    }
   ],
   "source": [
    "import wmfdata as wmf\n",
    "import time"
   ]
  },
  {
   "cell_type": "markdown",
   "metadata": {},
   "source": [
    "Let's try out different methods for calculating new active editors on the Korean Wikipedia for April and May 2018. These are non-bot users who both registered their account and made at least 5 content edits during the calendar month."
   ]
  },
  {
   "cell_type": "markdown",
   "metadata": {},
   "source": [
    "# MediaWiki application databases"
   ]
  },
  {
   "cell_type": "code",
   "execution_count": 34,
   "metadata": {},
   "outputs": [
    {
     "name": "stdout",
     "output_type": "stream",
     "text": [
      "CPU times: user 56 ms, sys: 4 ms, total: 60 ms\n",
      "Wall time: 1min 29s\n"
     ]
    }
   ],
   "source": [
    "%%time\n",
    "mdb_res = wmf.mariadb.run([\n",
    "\"use kowiki\",    \n",
    "\"\"\"\n",
    "SELECT\n",
    "    reg_month,\n",
    "    SUM(reg_month_revisions >= 5) as new_active_editors\n",
    "FROM (\n",
    "    SELECT\n",
    "        reg_month,\n",
    "        SUM(reg_month_revisions) as reg_month_revisions\n",
    "    FROM\n",
    "      (\n",
    "        /* Get revisions to content pages that are still visible */\n",
    "        SELECT\n",
    "          LEFT(user_registration, 6) as reg_month,\n",
    "          user_id,\n",
    "          user_name,\n",
    "          SUM(\n",
    "              rev_id IS NOT NULL and \n",
    "              LEFT(rev_timestamp, 6) = LEFT(user_registration, 6)\n",
    "            ) AS reg_month_revisions\n",
    "        FROM user\n",
    "        INNER JOIN logging ON /* Filter users not created manually */\n",
    "          log_user = user_id AND\n",
    "          log_type = \"newusers\" AND\n",
    "          log_action = \"create\"\n",
    "        LEFT JOIN revision ON\n",
    "            rev_user_text = user_name\n",
    "        LEFT JOIN page ON\n",
    "            rev_page = page_id\n",
    "        WHERE \n",
    "            user_registration between \"201804\" and \"201806\" and\n",
    "            rev_timestamp between \"201804\" and \"201806\" and\n",
    "            page_namespace = 0\n",
    "        GROUP BY 1, 2, 3\n",
    "\n",
    "        UNION ALL\n",
    "\n",
    "        /* Get revisions to content pages that have been archived */\n",
    "        SELECT\n",
    "          LEFT(user_registration, 6) as reg_month,\n",
    "          user_name,\n",
    "          user_id,\n",
    "          SUM(\n",
    "              ar_id IS NOT NULL and \n",
    "              LEFT(ar_timestamp, 6) = LEFT(user_registration, 6)\n",
    "            ) AS reg_month_revisions\n",
    "        FROM user\n",
    "        INNER JOIN logging ON /* Filter users not created manually */\n",
    "          log_user = user_id AND\n",
    "          log_type = \"newusers\" AND\n",
    "          log_action = \"create\"\n",
    "        LEFT JOIN archive ON \n",
    "          ar_user_text = user_name\n",
    "        WHERE \n",
    "            user_registration between \"201804\" and \"201806\" and\n",
    "            ar_timestamp between \"201804\" and \"201806\" and\n",
    "            ar_namespace = 0\n",
    "        GROUP BY 1, 2, 3\n",
    "      ) AS user_content_revision_count\n",
    "    WHERE \n",
    "        user_id NOT IN (SELECT ug_user FROM user_groups WHERE ug_group = \"bot\") and\n",
    "        user_id NOT IN (select ufg_user FROM user_former_groups WHERE ufg_group = \"bot\")\n",
    "    GROUP BY user_name, reg_month\n",
    ") unioned_revision_count\n",
    "GROUP BY reg_month\n",
    "\"\"\"])"
   ]
  },
  {
   "cell_type": "code",
   "execution_count": 35,
   "metadata": {},
   "outputs": [
    {
     "data": {
      "text/html": [
       "<div>\n",
       "<style scoped>\n",
       "    .dataframe tbody tr th:only-of-type {\n",
       "        vertical-align: middle;\n",
       "    }\n",
       "\n",
       "    .dataframe tbody tr th {\n",
       "        vertical-align: top;\n",
       "    }\n",
       "\n",
       "    .dataframe thead th {\n",
       "        text-align: right;\n",
       "    }\n",
       "</style>\n",
       "<table border=\"1\" class=\"dataframe\">\n",
       "  <thead>\n",
       "    <tr style=\"text-align: right;\">\n",
       "      <th></th>\n",
       "      <th>reg_month</th>\n",
       "      <th>new_active_editors</th>\n",
       "    </tr>\n",
       "  </thead>\n",
       "  <tbody>\n",
       "    <tr>\n",
       "      <th>0</th>\n",
       "      <td>201804</td>\n",
       "      <td>197.0</td>\n",
       "    </tr>\n",
       "    <tr>\n",
       "      <th>1</th>\n",
       "      <td>201805</td>\n",
       "      <td>171.0</td>\n",
       "    </tr>\n",
       "  </tbody>\n",
       "</table>\n",
       "</div>"
      ],
      "text/plain": [
       "  reg_month  new_active_editors\n",
       "0    201804               197.0\n",
       "1    201805               171.0"
      ]
     },
     "execution_count": 35,
     "metadata": {},
     "output_type": "execute_result"
    }
   ],
   "source": [
    "mdb_res"
   ]
  },
  {
   "cell_type": "markdown",
   "metadata": {},
   "source": [
    "# Editor month"
   ]
  },
  {
   "cell_type": "code",
   "execution_count": 17,
   "metadata": {},
   "outputs": [
    {
     "name": "stdout",
     "output_type": "stream",
     "text": [
      "CPU times: user 60 ms, sys: 4 ms, total: 64 ms\n",
      "Wall time: 294 ms\n"
     ]
    }
   ],
   "source": [
    "%%time\n",
    "em_res = wmf.mariadb.run(    \n",
    "\"\"\"\n",
    "select \n",
    "    month, \n",
    "    sum(extract(year_month from user_registration) = extract(year_month from month)) as new_active_editors\n",
    "from staging.editor_month\n",
    "where\n",
    "    local_user_id != 0 and\n",
    "    content_edits >= 5 and\n",
    "    wiki = \"kowiki\" and\n",
    "    month in (\"2018-04-01\", \"2018-05-01\") and\n",
    "    bot_flag = 0 and\n",
    "    convert(user_name using utf8) not regexp \"bot\\\\\\\\b\"\n",
    "group by month;\n",
    "\"\"\")"
   ]
  },
  {
   "cell_type": "code",
   "execution_count": 18,
   "metadata": {},
   "outputs": [
    {
     "data": {
      "text/html": [
       "<div>\n",
       "<style scoped>\n",
       "    .dataframe tbody tr th:only-of-type {\n",
       "        vertical-align: middle;\n",
       "    }\n",
       "\n",
       "    .dataframe tbody tr th {\n",
       "        vertical-align: top;\n",
       "    }\n",
       "\n",
       "    .dataframe thead th {\n",
       "        text-align: right;\n",
       "    }\n",
       "</style>\n",
       "<table border=\"1\" class=\"dataframe\">\n",
       "  <thead>\n",
       "    <tr style=\"text-align: right;\">\n",
       "      <th></th>\n",
       "      <th>month</th>\n",
       "      <th>new_active_editors</th>\n",
       "    </tr>\n",
       "  </thead>\n",
       "  <tbody>\n",
       "    <tr>\n",
       "      <th>0</th>\n",
       "      <td>2018-04-01</td>\n",
       "      <td>214.0</td>\n",
       "    </tr>\n",
       "    <tr>\n",
       "      <th>1</th>\n",
       "      <td>2018-05-01</td>\n",
       "      <td>183.0</td>\n",
       "    </tr>\n",
       "  </tbody>\n",
       "</table>\n",
       "</div>"
      ],
      "text/plain": [
       "        month  new_active_editors\n",
       "0  2018-04-01               214.0\n",
       "1  2018-05-01               183.0"
      ]
     },
     "execution_count": 18,
     "metadata": {},
     "output_type": "execute_result"
    }
   ],
   "source": [
    "em_res"
   ]
  },
  {
   "cell_type": "markdown",
   "metadata": {},
   "source": [
    "# Mediawiki history"
   ]
  },
  {
   "cell_type": "code",
   "execution_count": 42,
   "metadata": {},
   "outputs": [
    {
     "name": "stdout",
     "output_type": "stream",
     "text": [
      "CPU times: user 24 ms, sys: 4 ms, total: 28 ms\n",
      "Wall time: 2min 6s\n"
     ]
    }
   ],
   "source": [
    "%%time\n",
    "mwh_res = wmf.hive.run(\"\"\"\n",
    "select\n",
    "    substr(event_user_creation_timestamp, 1, 7) as month,\n",
    "    sum(cast(reg_month_edits >= 5 as int)) as new_active_editors\n",
    "from (\n",
    "    select\n",
    "        event_user_creation_timestamp,\n",
    "        count(*) as reg_month_edits\n",
    "    from wmf.mediawiki_history\n",
    "    where\n",
    "        snapshot = \"2018-06\" and\n",
    "        event_entity = \"revision\" and\n",
    "        event_type = \"create\" and\n",
    "        wiki_db = \"kowiki\" and\n",
    "        event_timestamp >= \"2018-04\" and\n",
    "        event_timestamp < \"2018-06\" and\n",
    "        event_user_is_created_by_system = 0 and\n",
    "        page_namespace_is_content_historical and\n",
    "        not (event_user_is_bot_by_name or array_contains(event_user_groups, \"bot\")) and\n",
    "        substr(event_user_creation_timestamp, 1, 7) = substr(event_timestamp, 1, 7)\n",
    "    group by event_user_text, event_user_creation_timestamp\n",
    ") first_month_editors\n",
    "group by substr(event_user_creation_timestamp, 1, 7)\n",
    "\"\"\")"
   ]
  },
  {
   "cell_type": "code",
   "execution_count": 43,
   "metadata": {},
   "outputs": [
    {
     "data": {
      "text/html": [
       "<div>\n",
       "<style scoped>\n",
       "    .dataframe tbody tr th:only-of-type {\n",
       "        vertical-align: middle;\n",
       "    }\n",
       "\n",
       "    .dataframe tbody tr th {\n",
       "        vertical-align: top;\n",
       "    }\n",
       "\n",
       "    .dataframe thead th {\n",
       "        text-align: right;\n",
       "    }\n",
       "</style>\n",
       "<table border=\"1\" class=\"dataframe\">\n",
       "  <thead>\n",
       "    <tr style=\"text-align: right;\">\n",
       "      <th></th>\n",
       "      <th>month</th>\n",
       "      <th>new_active_editors</th>\n",
       "    </tr>\n",
       "  </thead>\n",
       "  <tbody>\n",
       "    <tr>\n",
       "      <th>0</th>\n",
       "      <td>2018-04</td>\n",
       "      <td>159</td>\n",
       "    </tr>\n",
       "    <tr>\n",
       "      <th>1</th>\n",
       "      <td>2018-05</td>\n",
       "      <td>147</td>\n",
       "    </tr>\n",
       "  </tbody>\n",
       "</table>\n",
       "</div>"
      ],
      "text/plain": [
       "     month  new_active_editors\n",
       "0  2018-04                 159\n",
       "1  2018-05                 147"
      ]
     },
     "execution_count": 43,
     "metadata": {},
     "output_type": "execute_result"
    }
   ],
   "source": [
    "mwh_res"
   ]
  },
  {
   "cell_type": "code",
   "execution_count": null,
   "metadata": {},
   "outputs": [],
   "source": []
  }
 ],
 "metadata": {
  "kernelspec": {
   "display_name": "Python 3",
   "language": "python",
   "name": "python3"
  },
  "language_info": {
   "codemirror_mode": {
    "name": "ipython",
    "version": 3
   },
   "file_extension": ".py",
   "mimetype": "text/x-python",
   "name": "python",
   "nbconvert_exporter": "python",
   "pygments_lexer": "ipython3",
   "version": "3.5.3"
  }
 },
 "nbformat": 4,
 "nbformat_minor": 2
}
